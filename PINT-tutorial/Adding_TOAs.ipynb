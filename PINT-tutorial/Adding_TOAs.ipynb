{
 "cells": [
  {
   "cell_type": "code",
   "execution_count": 1,
   "id": "ac86c094",
   "metadata": {},
   "outputs": [],
   "source": [
    "import numpy as np"
   ]
  },
  {
   "cell_type": "code",
   "execution_count": 4,
   "id": "7ad2ba98",
   "metadata": {},
   "outputs": [
    {
     "name": "stdout",
     "output_type": "stream",
     "text": [
      "[]\n"
     ]
    },
    {
     "name": "stderr",
     "output_type": "stream",
     "text": [
      "/tmp/ipykernel_1301173/240372991.py:2: UserWarning: loadtxt: input contained no data: \"window.tim\"\n",
      "  dat = np.loadtxt(\"window.tim\", dtype='str', skiprows=1, usecols=(1,2,3)) # loading text of first file\n"
     ]
    }
   ],
   "source": [
    "files_to_add = [\"59904.tim\"] # list of files to add to first file\n",
    "dat = np.loadtxt(\"window.tim\", dtype='str', skiprows=1, usecols=(1,2,3)) # loading text of first file\n",
    "print(dat) # see what we've got"
   ]
  },
  {
   "cell_type": "code",
   "execution_count": 5,
   "id": "2669460b",
   "metadata": {},
   "outputs": [
    {
     "name": "stdout",
     "output_type": "stream",
     "text": [
      "[['1550.244' '59905.0627120178803' '80.67']\n",
      " ['1550.244' '59905.0678817131112' '94.54']\n",
      " ['1550.244' '59905.0730518025512' '81.68']\n",
      " ['1550.244' '59905.0782214974317' '65.40']]\n"
     ]
    }
   ],
   "source": [
    "for file in files_to_add:\n",
    "    if next(open(file, 'r')).rstrip()==\"FORMAT 1\": # this loop makes sure you don't skip a TOA, but also that you don't break it when the .tim file already has FORMAT 1 as the first line\n",
    "        dat2 = np.loadtxt(file, dtype='str', usecols=(1,2,3), skiprows=1)\n",
    "    else:\n",
    "        dat2 = np.loadtxt(file, dtype='str', usecols=(1,2,3))\n",
    "    dat = np.append(dat, dat2, axis=0)\n",
    "print(dat) # making sure we've got the right final file"
   ]
  },
  {
   "cell_type": "code",
   "execution_count": 6,
   "id": "beb1ad45",
   "metadata": {},
   "outputs": [],
   "source": [
    "with open(\"window.tim\", \"w\") as txt_file: # change \"output.tim\" to something more descriptive\n",
    "    txt_file.write(\"FORMAT 1\"+\"\\n\") # ensuring correct formatting and writing the data array out to a new .tim file\n",
    "    for line in dat:\n",
    "        txt_file.write(\"unk \" + \" \".join(line) + \" gbt\" + \"\\n\")"
   ]
  },
  {
   "cell_type": "code",
   "execution_count": null,
   "id": "27f91d79",
   "metadata": {},
   "outputs": [],
   "source": []
  }
 ],
 "metadata": {
  "kernelspec": {
   "display_name": "Python 3 (ipykernel)",
   "language": "python",
   "name": "python3"
  },
  "language_info": {
   "codemirror_mode": {
    "name": "ipython",
    "version": 3
   },
   "file_extension": ".py",
   "mimetype": "text/x-python",
   "name": "python",
   "nbconvert_exporter": "python",
   "pygments_lexer": "ipython3",
   "version": "3.10.6"
  }
 },
 "nbformat": 4,
 "nbformat_minor": 5
}
